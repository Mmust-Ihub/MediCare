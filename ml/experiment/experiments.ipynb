{
 "cells": [
  {
   "cell_type": "code",
   "execution_count": 1,
   "metadata": {},
   "outputs": [],
   "source": [
    "import pandas as pd\n",
    "import numpy as np\n",
    "import matplotlib.pyplot as plt\n",
    "import seaborn as sns\n",
    "from sklearn.model_selection import train_test_split\n",
    "from sklearn.pipeline import make_pipeline\n",
    "from sklearn.model_selection import cross_val_score\n",
    "from sklearn.model_selection import GridSearchCV\n",
    "from sklearn.ensemble import RandomForestRegressor\n",
    "from sklearn.svm import SVR\n",
    "from sklearn.tree import DecisionTreeRegressor\n",
    "from sklearn.neighbors import KNeighborsRegressor\n",
    "\n",
    "import xgboost as xgb\n",
    "from sklearn.metrics import mean_squared_error,r2_score , mean_squared_error, mean_absolute_error, mean_absolute_percentage_error\n",
    "from sklearn.model_selection import cross_val_score\n",
    "from sklearn.linear_model import LinearRegression\n",
    "from xgboost import XGBRegressor\n",
    "\n",
    "from sklearn.linear_model import Lasso, Ridge, ElasticNet"
   ]
  },
  {
   "cell_type": "code",
   "execution_count": 2,
   "metadata": {},
   "outputs": [
    {
     "data": {
      "text/html": [
       "<div>\n",
       "<style scoped>\n",
       "    .dataframe tbody tr th:only-of-type {\n",
       "        vertical-align: middle;\n",
       "    }\n",
       "\n",
       "    .dataframe tbody tr th {\n",
       "        vertical-align: top;\n",
       "    }\n",
       "\n",
       "    .dataframe thead th {\n",
       "        text-align: right;\n",
       "    }\n",
       "</style>\n",
       "<table border=\"1\" class=\"dataframe\">\n",
       "  <thead>\n",
       "    <tr style=\"text-align: right;\">\n",
       "      <th></th>\n",
       "      <th>Disease</th>\n",
       "      <th>Fever</th>\n",
       "      <th>Cough</th>\n",
       "      <th>Fatigue</th>\n",
       "      <th>Difficulty Breathing</th>\n",
       "      <th>Age</th>\n",
       "      <th>Gender</th>\n",
       "      <th>Blood Pressure</th>\n",
       "      <th>Cholesterol Level</th>\n",
       "      <th>Outcome Variable</th>\n",
       "    </tr>\n",
       "  </thead>\n",
       "  <tbody>\n",
       "    <tr>\n",
       "      <th>0</th>\n",
       "      <td>Influenza</td>\n",
       "      <td>Yes</td>\n",
       "      <td>No</td>\n",
       "      <td>Yes</td>\n",
       "      <td>Yes</td>\n",
       "      <td>19</td>\n",
       "      <td>Female</td>\n",
       "      <td>Low</td>\n",
       "      <td>Normal</td>\n",
       "      <td>Positive</td>\n",
       "    </tr>\n",
       "    <tr>\n",
       "      <th>1</th>\n",
       "      <td>Common Cold</td>\n",
       "      <td>No</td>\n",
       "      <td>Yes</td>\n",
       "      <td>Yes</td>\n",
       "      <td>No</td>\n",
       "      <td>25</td>\n",
       "      <td>Female</td>\n",
       "      <td>Normal</td>\n",
       "      <td>Normal</td>\n",
       "      <td>Negative</td>\n",
       "    </tr>\n",
       "    <tr>\n",
       "      <th>2</th>\n",
       "      <td>Eczema</td>\n",
       "      <td>No</td>\n",
       "      <td>Yes</td>\n",
       "      <td>Yes</td>\n",
       "      <td>No</td>\n",
       "      <td>25</td>\n",
       "      <td>Female</td>\n",
       "      <td>Normal</td>\n",
       "      <td>Normal</td>\n",
       "      <td>Negative</td>\n",
       "    </tr>\n",
       "    <tr>\n",
       "      <th>3</th>\n",
       "      <td>Asthma</td>\n",
       "      <td>Yes</td>\n",
       "      <td>Yes</td>\n",
       "      <td>No</td>\n",
       "      <td>Yes</td>\n",
       "      <td>25</td>\n",
       "      <td>Male</td>\n",
       "      <td>Normal</td>\n",
       "      <td>Normal</td>\n",
       "      <td>Positive</td>\n",
       "    </tr>\n",
       "    <tr>\n",
       "      <th>4</th>\n",
       "      <td>Asthma</td>\n",
       "      <td>Yes</td>\n",
       "      <td>Yes</td>\n",
       "      <td>No</td>\n",
       "      <td>Yes</td>\n",
       "      <td>25</td>\n",
       "      <td>Male</td>\n",
       "      <td>Normal</td>\n",
       "      <td>Normal</td>\n",
       "      <td>Positive</td>\n",
       "    </tr>\n",
       "  </tbody>\n",
       "</table>\n",
       "</div>"
      ],
      "text/plain": [
       "       Disease Fever Cough Fatigue Difficulty Breathing  Age  Gender  \\\n",
       "0    Influenza   Yes    No     Yes                  Yes   19  Female   \n",
       "1  Common Cold    No   Yes     Yes                   No   25  Female   \n",
       "2       Eczema    No   Yes     Yes                   No   25  Female   \n",
       "3       Asthma   Yes   Yes      No                  Yes   25    Male   \n",
       "4       Asthma   Yes   Yes      No                  Yes   25    Male   \n",
       "\n",
       "  Blood Pressure Cholesterol Level Outcome Variable  \n",
       "0            Low            Normal         Positive  \n",
       "1         Normal            Normal         Negative  \n",
       "2         Normal            Normal         Negative  \n",
       "3         Normal            Normal         Positive  \n",
       "4         Normal            Normal         Positive  "
      ]
     },
     "execution_count": 2,
     "metadata": {},
     "output_type": "execute_result"
    }
   ],
   "source": [
    "data = pd.read_csv(r'C:\\Users\\rutto\\OneDrive\\Desktop\\medi-hack\\MediCare\\ml\\dataset.csv')\n",
    "data.head()"
   ]
  },
  {
   "cell_type": "code",
   "execution_count": 3,
   "metadata": {},
   "outputs": [
    {
     "data": {
      "text/plain": [
       "Index(['Disease', 'Fever', 'Cough', 'Fatigue', 'Difficulty Breathing', 'Age',\n",
       "       'Gender', 'Blood Pressure', 'Cholesterol Level', 'Outcome Variable'],\n",
       "      dtype='object')"
      ]
     },
     "execution_count": 3,
     "metadata": {},
     "output_type": "execute_result"
    }
   ],
   "source": [
    "data.columns"
   ]
  },
  {
   "cell_type": "code",
   "execution_count": 38,
   "metadata": {},
   "outputs": [
    {
     "data": {
      "text/plain": [
       "(349, 9)"
      ]
     },
     "execution_count": 38,
     "metadata": {},
     "output_type": "execute_result"
    }
   ],
   "source": [
    "data.shape "
   ]
  },
  {
   "cell_type": "code",
   "execution_count": 4,
   "metadata": {},
   "outputs": [
    {
     "data": {
      "text/html": [
       "<div>\n",
       "<style scoped>\n",
       "    .dataframe tbody tr th:only-of-type {\n",
       "        vertical-align: middle;\n",
       "    }\n",
       "\n",
       "    .dataframe tbody tr th {\n",
       "        vertical-align: top;\n",
       "    }\n",
       "\n",
       "    .dataframe thead th {\n",
       "        text-align: right;\n",
       "    }\n",
       "</style>\n",
       "<table border=\"1\" class=\"dataframe\">\n",
       "  <thead>\n",
       "    <tr style=\"text-align: right;\">\n",
       "      <th></th>\n",
       "      <th>Age</th>\n",
       "    </tr>\n",
       "  </thead>\n",
       "  <tbody>\n",
       "    <tr>\n",
       "      <th>count</th>\n",
       "      <td>349.000000</td>\n",
       "    </tr>\n",
       "    <tr>\n",
       "      <th>mean</th>\n",
       "      <td>46.323782</td>\n",
       "    </tr>\n",
       "    <tr>\n",
       "      <th>std</th>\n",
       "      <td>13.085090</td>\n",
       "    </tr>\n",
       "    <tr>\n",
       "      <th>min</th>\n",
       "      <td>19.000000</td>\n",
       "    </tr>\n",
       "    <tr>\n",
       "      <th>25%</th>\n",
       "      <td>35.000000</td>\n",
       "    </tr>\n",
       "    <tr>\n",
       "      <th>50%</th>\n",
       "      <td>45.000000</td>\n",
       "    </tr>\n",
       "    <tr>\n",
       "      <th>75%</th>\n",
       "      <td>55.000000</td>\n",
       "    </tr>\n",
       "    <tr>\n",
       "      <th>max</th>\n",
       "      <td>90.000000</td>\n",
       "    </tr>\n",
       "  </tbody>\n",
       "</table>\n",
       "</div>"
      ],
      "text/plain": [
       "              Age\n",
       "count  349.000000\n",
       "mean    46.323782\n",
       "std     13.085090\n",
       "min     19.000000\n",
       "25%     35.000000\n",
       "50%     45.000000\n",
       "75%     55.000000\n",
       "max     90.000000"
      ]
     },
     "execution_count": 4,
     "metadata": {},
     "output_type": "execute_result"
    }
   ],
   "source": [
    "data.describe()"
   ]
  },
  {
   "cell_type": "code",
   "execution_count": 5,
   "metadata": {},
   "outputs": [
    {
     "name": "stdout",
     "output_type": "stream",
     "text": [
      "<class 'pandas.core.frame.DataFrame'>\n",
      "RangeIndex: 349 entries, 0 to 348\n",
      "Data columns (total 10 columns):\n",
      " #   Column                Non-Null Count  Dtype \n",
      "---  ------                --------------  ----- \n",
      " 0   Disease               349 non-null    object\n",
      " 1   Fever                 349 non-null    object\n",
      " 2   Cough                 349 non-null    object\n",
      " 3   Fatigue               349 non-null    object\n",
      " 4   Difficulty Breathing  349 non-null    object\n",
      " 5   Age                   349 non-null    int64 \n",
      " 6   Gender                349 non-null    object\n",
      " 7   Blood Pressure        349 non-null    object\n",
      " 8   Cholesterol Level     349 non-null    object\n",
      " 9   Outcome Variable      349 non-null    object\n",
      "dtypes: int64(1), object(9)\n",
      "memory usage: 27.4+ KB\n"
     ]
    }
   ],
   "source": [
    "data.info()"
   ]
  },
  {
   "cell_type": "code",
   "execution_count": 6,
   "metadata": {},
   "outputs": [
    {
     "data": {
      "text/html": [
       "<div>\n",
       "<style scoped>\n",
       "    .dataframe tbody tr th:only-of-type {\n",
       "        vertical-align: middle;\n",
       "    }\n",
       "\n",
       "    .dataframe tbody tr th {\n",
       "        vertical-align: top;\n",
       "    }\n",
       "\n",
       "    .dataframe thead th {\n",
       "        text-align: right;\n",
       "    }\n",
       "</style>\n",
       "<table border=\"1\" class=\"dataframe\">\n",
       "  <thead>\n",
       "    <tr style=\"text-align: right;\">\n",
       "      <th></th>\n",
       "      <th>Disease</th>\n",
       "      <th>Fever</th>\n",
       "      <th>Cough</th>\n",
       "      <th>Fatigue</th>\n",
       "      <th>Difficulty Breathing</th>\n",
       "      <th>Age</th>\n",
       "      <th>Gender</th>\n",
       "      <th>Blood Pressure</th>\n",
       "      <th>Cholesterol Level</th>\n",
       "      <th>Outcome Variable</th>\n",
       "    </tr>\n",
       "  </thead>\n",
       "  <tbody>\n",
       "    <tr>\n",
       "      <th>344</th>\n",
       "      <td>Stroke</td>\n",
       "      <td>Yes</td>\n",
       "      <td>No</td>\n",
       "      <td>Yes</td>\n",
       "      <td>No</td>\n",
       "      <td>80</td>\n",
       "      <td>Female</td>\n",
       "      <td>High</td>\n",
       "      <td>High</td>\n",
       "      <td>Positive</td>\n",
       "    </tr>\n",
       "    <tr>\n",
       "      <th>345</th>\n",
       "      <td>Stroke</td>\n",
       "      <td>Yes</td>\n",
       "      <td>No</td>\n",
       "      <td>Yes</td>\n",
       "      <td>No</td>\n",
       "      <td>85</td>\n",
       "      <td>Male</td>\n",
       "      <td>High</td>\n",
       "      <td>High</td>\n",
       "      <td>Positive</td>\n",
       "    </tr>\n",
       "    <tr>\n",
       "      <th>346</th>\n",
       "      <td>Stroke</td>\n",
       "      <td>Yes</td>\n",
       "      <td>No</td>\n",
       "      <td>Yes</td>\n",
       "      <td>No</td>\n",
       "      <td>85</td>\n",
       "      <td>Male</td>\n",
       "      <td>High</td>\n",
       "      <td>High</td>\n",
       "      <td>Positive</td>\n",
       "    </tr>\n",
       "    <tr>\n",
       "      <th>347</th>\n",
       "      <td>Stroke</td>\n",
       "      <td>Yes</td>\n",
       "      <td>No</td>\n",
       "      <td>Yes</td>\n",
       "      <td>No</td>\n",
       "      <td>90</td>\n",
       "      <td>Female</td>\n",
       "      <td>High</td>\n",
       "      <td>High</td>\n",
       "      <td>Positive</td>\n",
       "    </tr>\n",
       "    <tr>\n",
       "      <th>348</th>\n",
       "      <td>Stroke</td>\n",
       "      <td>Yes</td>\n",
       "      <td>No</td>\n",
       "      <td>Yes</td>\n",
       "      <td>No</td>\n",
       "      <td>90</td>\n",
       "      <td>Female</td>\n",
       "      <td>High</td>\n",
       "      <td>High</td>\n",
       "      <td>Positive</td>\n",
       "    </tr>\n",
       "  </tbody>\n",
       "</table>\n",
       "</div>"
      ],
      "text/plain": [
       "    Disease Fever Cough Fatigue Difficulty Breathing  Age  Gender  \\\n",
       "344  Stroke   Yes    No     Yes                   No   80  Female   \n",
       "345  Stroke   Yes    No     Yes                   No   85    Male   \n",
       "346  Stroke   Yes    No     Yes                   No   85    Male   \n",
       "347  Stroke   Yes    No     Yes                   No   90  Female   \n",
       "348  Stroke   Yes    No     Yes                   No   90  Female   \n",
       "\n",
       "    Blood Pressure Cholesterol Level Outcome Variable  \n",
       "344           High              High         Positive  \n",
       "345           High              High         Positive  \n",
       "346           High              High         Positive  \n",
       "347           High              High         Positive  \n",
       "348           High              High         Positive  "
      ]
     },
     "execution_count": 6,
     "metadata": {},
     "output_type": "execute_result"
    }
   ],
   "source": [
    "data.tail()"
   ]
  },
  {
   "cell_type": "code",
   "execution_count": 7,
   "metadata": {},
   "outputs": [
    {
     "data": {
      "text/plain": [
       "(349, 10)"
      ]
     },
     "execution_count": 7,
     "metadata": {},
     "output_type": "execute_result"
    }
   ],
   "source": [
    "data.shape"
   ]
  },
  {
   "cell_type": "code",
   "execution_count": 6,
   "metadata": {},
   "outputs": [
    {
     "data": {
      "text/plain": [
       "np.int64(49)"
      ]
     },
     "execution_count": 6,
     "metadata": {},
     "output_type": "execute_result"
    }
   ],
   "source": [
    "data.duplicated().sum()"
   ]
  },
  {
   "cell_type": "code",
   "execution_count": 7,
   "metadata": {},
   "outputs": [
    {
     "data": {
      "text/plain": [
       "Disease                 0\n",
       "Fever                   0\n",
       "Cough                   0\n",
       "Fatigue                 0\n",
       "Difficulty Breathing    0\n",
       "Age                     0\n",
       "Gender                  0\n",
       "Blood Pressure          0\n",
       "Cholesterol Level       0\n",
       "Outcome Variable        0\n",
       "dtype: int64"
      ]
     },
     "execution_count": 7,
     "metadata": {},
     "output_type": "execute_result"
    }
   ],
   "source": [
    "data.isnull().sum()"
   ]
  },
  {
   "cell_type": "code",
   "execution_count": 8,
   "metadata": {},
   "outputs": [
    {
     "data": {
      "text/plain": [
       "['Disease',\n",
       " 'Fever',\n",
       " 'Cough',\n",
       " 'Fatigue',\n",
       " 'Difficulty Breathing',\n",
       " 'Age',\n",
       " 'Gender',\n",
       " 'Blood Pressure',\n",
       " 'Cholesterol Level',\n",
       " 'Outcome Variable']"
      ]
     },
     "execution_count": 8,
     "metadata": {},
     "output_type": "execute_result"
    }
   ],
   "source": [
    "list(data.columns)"
   ]
  },
  {
   "cell_type": "code",
   "execution_count": 10,
   "metadata": {},
   "outputs": [
    {
     "data": {
      "text/plain": [
       "array([False, False, False, False, False, False, False, False, False,\n",
       "       False])"
      ]
     },
     "execution_count": 10,
     "metadata": {},
     "output_type": "execute_result"
    }
   ],
   "source": [
    "data.columns.duplicated()\n"
   ]
  },
  {
   "cell_type": "code",
   "execution_count": 9,
   "metadata": {},
   "outputs": [
    {
     "name": "stdout",
     "output_type": "stream",
     "text": [
      "<class 'pandas.core.frame.DataFrame'>\n",
      "RangeIndex: 349 entries, 0 to 348\n",
      "Data columns (total 10 columns):\n",
      " #   Column                Non-Null Count  Dtype \n",
      "---  ------                --------------  ----- \n",
      " 0   Disease               349 non-null    object\n",
      " 1   Fever                 349 non-null    object\n",
      " 2   Cough                 349 non-null    object\n",
      " 3   Fatigue               349 non-null    object\n",
      " 4   Difficulty Breathing  349 non-null    object\n",
      " 5   Age                   349 non-null    int64 \n",
      " 6   Gender                349 non-null    object\n",
      " 7   Blood Pressure        349 non-null    object\n",
      " 8   Cholesterol Level     349 non-null    object\n",
      " 9   Outcome Variable      349 non-null    object\n",
      "dtypes: int64(1), object(9)\n",
      "memory usage: 27.4+ KB\n"
     ]
    }
   ],
   "source": [
    "data.info()"
   ]
  },
  {
   "cell_type": "code",
   "execution_count": 10,
   "metadata": {},
   "outputs": [],
   "source": [
    "data.drop(columns=['Outcome Variable'],inplace=True)"
   ]
  },
  {
   "cell_type": "code",
   "execution_count": 11,
   "metadata": {},
   "outputs": [
    {
     "name": "stdout",
     "output_type": "stream",
     "text": [
      "<class 'pandas.core.frame.DataFrame'>\n",
      "RangeIndex: 349 entries, 0 to 348\n",
      "Data columns (total 9 columns):\n",
      " #   Column                Non-Null Count  Dtype \n",
      "---  ------                --------------  ----- \n",
      " 0   Disease               349 non-null    object\n",
      " 1   Fever                 349 non-null    object\n",
      " 2   Cough                 349 non-null    object\n",
      " 3   Fatigue               349 non-null    object\n",
      " 4   Difficulty Breathing  349 non-null    object\n",
      " 5   Age                   349 non-null    int64 \n",
      " 6   Gender                349 non-null    object\n",
      " 7   Blood Pressure        349 non-null    object\n",
      " 8   Cholesterol Level     349 non-null    object\n",
      "dtypes: int64(1), object(8)\n",
      "memory usage: 24.7+ KB\n"
     ]
    }
   ],
   "source": [
    "data.info()"
   ]
  },
  {
   "cell_type": "code",
   "execution_count": 12,
   "metadata": {},
   "outputs": [
    {
     "data": {
      "text/plain": [
       "Index(['Disease', 'Fever', 'Cough', 'Fatigue', 'Difficulty Breathing',\n",
       "       'Gender', 'Blood Pressure', 'Cholesterol Level'],\n",
       "      dtype='object')"
      ]
     },
     "execution_count": 12,
     "metadata": {},
     "output_type": "execute_result"
    }
   ],
   "source": [
    "# data segragation into numerical and categorical \n",
    "\n",
    "cat_columns = data.columns[data.dtypes =='object']\n",
    "cat_columns"
   ]
  },
  {
   "cell_type": "code",
   "execution_count": 13,
   "metadata": {},
   "outputs": [
    {
     "data": {
      "text/plain": [
       "Index(['Age'], dtype='object')"
      ]
     },
     "execution_count": 13,
     "metadata": {},
     "output_type": "execute_result"
    }
   ],
   "source": [
    "num_columns = data.columns[data.dtypes!='object']\n",
    "num_columns\n"
   ]
  },
  {
   "cell_type": "code",
   "execution_count": 14,
   "metadata": {},
   "outputs": [
    {
     "name": "stdout",
     "output_type": "stream",
     "text": [
      "Disease\n",
      "Asthma               23\n",
      "Stroke               16\n",
      "Osteoporosis         14\n",
      "Diabetes             10\n",
      "Hypertension         10\n",
      "                     ..\n",
      "Schizophrenia         1\n",
      "Gout                  1\n",
      "Testicular Cancer     1\n",
      "Tonsillitis           1\n",
      "Williams Syndrome     1\n",
      "Name: count, Length: 116, dtype: int64\n",
      "----------------------------------\n",
      "Fever\n",
      "Yes    175\n",
      "No     174\n",
      "Name: count, dtype: int64\n",
      "----------------------------------\n",
      "Cough\n",
      "No     182\n",
      "Yes    167\n",
      "Name: count, dtype: int64\n",
      "----------------------------------\n",
      "Fatigue\n",
      "Yes    242\n",
      "No     107\n",
      "Name: count, dtype: int64\n",
      "----------------------------------\n",
      "Difficulty Breathing\n",
      "No     261\n",
      "Yes     88\n",
      "Name: count, dtype: int64\n",
      "----------------------------------\n",
      "Gender\n",
      "Female    176\n",
      "Male      173\n",
      "Name: count, dtype: int64\n",
      "----------------------------------\n",
      "Blood Pressure\n",
      "High      167\n",
      "Normal    164\n",
      "Low        18\n",
      "Name: count, dtype: int64\n",
      "----------------------------------\n",
      "Cholesterol Level\n",
      "High      166\n",
      "Normal    149\n",
      "Low        34\n",
      "Name: count, dtype: int64\n",
      "----------------------------------\n"
     ]
    }
   ],
   "source": [
    "for i in cat_columns:\n",
    "    print(data[i].value_counts())\n",
    "    print(\"----------------------------------\")"
   ]
  },
  {
   "cell_type": "code",
   "execution_count": 16,
   "metadata": {},
   "outputs": [
    {
     "data": {
      "text/plain": [
       "Disease                 0\n",
       "Fever                   0\n",
       "Cough                   0\n",
       "Fatigue                 0\n",
       "Difficulty Breathing    0\n",
       "Age                     0\n",
       "Gender                  0\n",
       "Blood Pressure          0\n",
       "Cholesterol Level       0\n",
       "dtype: int64"
      ]
     },
     "execution_count": 16,
     "metadata": {},
     "output_type": "execute_result"
    }
   ],
   "source": [
    "data.isnull().sum()"
   ]
  },
  {
   "cell_type": "code",
   "execution_count": 19,
   "metadata": {},
   "outputs": [],
   "source": [
    "from sklearn.preprocessing import LabelEncoder\n",
    "le = LabelEncoder()\n",
    "\n",
    "for col in cat_columns:\n",
    "    data[col] = le.fit_transform(data[col])\n",
    "\n"
   ]
  },
  {
   "cell_type": "code",
   "execution_count": null,
   "metadata": {},
   "outputs": [
    {
     "name": "stdout",
     "output_type": "stream",
     "text": [
      "     Fever  Cough  Fatigue  Difficulty Breathing  Age  Gender  Blood Pressure  \\\n",
      "0        1      0        1                     1   19       0               1   \n",
      "1        0      1        1                     0   25       0               2   \n",
      "2        0      1        1                     0   25       0               2   \n",
      "3        1      1        0                     1   25       1               2   \n",
      "4        1      1        0                     1   25       1               2   \n",
      "..     ...    ...      ...                   ...  ...     ...             ...   \n",
      "344      1      0        1                     0   80       0               0   \n",
      "345      1      0        1                     0   85       1               0   \n",
      "346      1      0        1                     0   85       1               0   \n",
      "347      1      0        1                     0   90       0               0   \n",
      "348      1      0        1                     0   90       0               0   \n",
      "\n",
      "     Cholesterol Level  \n",
      "0                    2  \n",
      "1                    2  \n",
      "2                    2  \n",
      "3                    2  \n",
      "4                    2  \n",
      "..                 ...  \n",
      "344                  0  \n",
      "345                  0  \n",
      "346                  0  \n",
      "347                  0  \n",
      "348                  0  \n",
      "\n",
      "[349 rows x 8 columns]\n",
      "0       56\n",
      "1       24\n",
      "2       37\n",
      "3        6\n",
      "4        6\n",
      "      ... \n",
      "344    101\n",
      "345    101\n",
      "346    101\n",
      "347    101\n",
      "348    101\n",
      "Name: Disease, Length: 349, dtype: int64\n"
     ]
    }
   ],
   "source": [
    "X = data.drop('Disease',axis=1)\n",
    "y = data['Disease']\n",
    "print(X)\n",
    "print(y)"
   ]
  },
  {
   "cell_type": "code",
   "execution_count": 21,
   "metadata": {},
   "outputs": [
    {
     "name": "stdout",
     "output_type": "stream",
     "text": [
      "0       56\n",
      "1       24\n",
      "2       37\n",
      "3        6\n",
      "4        6\n",
      "      ... \n",
      "344    101\n",
      "345    101\n",
      "346    101\n",
      "347    101\n",
      "348    101\n",
      "Name: Disease, Length: 349, dtype: int64\n"
     ]
    }
   ],
   "source": [
    "print(y)"
   ]
  },
  {
   "cell_type": "code",
   "execution_count": 22,
   "metadata": {},
   "outputs": [
    {
     "name": "stdout",
     "output_type": "stream",
     "text": [
      "[ 56  24  37   6  53   1   4  32  42  81  92  31  60 101 112  30  48  57\n",
      "  69  72  98 111   9  13  15  23  52  70  73 113  77  84   7  21  39  51\n",
      "  74  90  93  22  25  61  65 100  58  75  59   0  11  28  43  91  16  26\n",
      "  35  41  46  54  64 108  62  55   8  27  50  68  79 109 115  14  83  95\n",
      "  97 104   3  18  38  96  99  34  36  63  80  85   5  40  45  66  82  47\n",
      "  87 102 110  12  67  76  86  19  49  88 105  10  78 107   2  20  29  33\n",
      "  71  17  89  94  44 103 106 114]\n"
     ]
    }
   ],
   "source": [
    "print(data['Disease'].unique())"
   ]
  },
  {
   "cell_type": "code",
   "execution_count": 23,
   "metadata": {},
   "outputs": [
    {
     "name": "stdout",
     "output_type": "stream",
     "text": [
      "Disease\n",
      "6      23\n",
      "101    16\n",
      "77     14\n",
      "32     10\n",
      "51     10\n",
      "       ..\n",
      "94      1\n",
      "44      1\n",
      "103     1\n",
      "106     1\n",
      "114     1\n",
      "Name: count, Length: 116, dtype: int64\n"
     ]
    }
   ],
   "source": [
    "print(data['Disease'].value_counts())"
   ]
  },
  {
   "cell_type": "code",
   "execution_count": 24,
   "metadata": {},
   "outputs": [],
   "source": [
    "from sklearn.pipeline import Pipeline\n",
    "from sklearn.compose import ColumnTransformer\n",
    "from sklearn.preprocessing import StandardScaler\n",
    "from sklearn.model_selection import train_test_split\n",
    "from sklearn.linear_model import LogisticRegression\n",
    "from sklearn.ensemble import RandomForestClassifier\n",
    "from xgboost import XGBClassifier\n",
    "from sklearn.metrics import accuracy_score, f1_score, precision_score, recall_score"
   ]
  },
  {
   "cell_type": "code",
   "execution_count": 25,
   "metadata": {},
   "outputs": [],
   "source": [
    "from sklearn.model_selection import train_test_split\n",
    "X_train, X_test, y_train, y_test = train_test_split(X, y, test_size=0.2, random_state=42)"
   ]
  },
  {
   "cell_type": "code",
   "execution_count": null,
   "metadata": {},
   "outputs": [],
   "source": [
    "num_pipeline = Pipeline(steps=[\n",
    "    ('scaler', StandardScaler())  \n",
    "])"
   ]
  },
  {
   "cell_type": "code",
   "execution_count": null,
   "metadata": {},
   "outputs": [],
   "source": [
    "preprocessor = ColumnTransformer(\n",
    "    transformers=[\n",
    "        ('num', num_pipeline, ['Age']) \n",
    "    ], remainder='passthrough'  \n",
    ")"
   ]
  },
  {
   "cell_type": "code",
   "execution_count": 28,
   "metadata": {},
   "outputs": [],
   "source": [
    "X_train = pd.DataFrame(preprocessor.fit_transform(X_train), columns=preprocessor.get_feature_names_out())\n",
    "X_test = pd.DataFrame(preprocessor.transform(X_test), columns=preprocessor.get_feature_names_out())"
   ]
  },
  {
   "cell_type": "code",
   "execution_count": null,
   "metadata": {},
   "outputs": [],
   "source": [
    "models = {\n",
    "    'Logistic Regression': LogisticRegression(),\n",
    "    'Random Forest': RandomForestClassifier(),\n",
    "    'XGBoost': XGBClassifier(num_class=len(y_train.unique()))  #  no of classes\n",
    "}"
   ]
  },
  {
   "cell_type": "code",
   "execution_count": null,
   "metadata": {},
   "outputs": [],
   "source": [
    "def evaluate_model(true, pred):\n",
    "    accuracy = accuracy_score(true, pred)\n",
    "    f1 = f1_score(true, pred, average='weighted', zero_division=0)  \n",
    "    precision = precision_score(true, pred, average='weighted', zero_division=0)\n",
    "    recall = recall_score(true, pred, average='weighted', zero_division=0)\n",
    "    return accuracy, f1, precision, recall"
   ]
  },
  {
   "cell_type": "code",
   "execution_count": 36,
   "metadata": {},
   "outputs": [
    {
     "name": "stdout",
     "output_type": "stream",
     "text": [
      "Model: Logistic Regression\n",
      "Accuracy: 0.14285714285714285\n",
      "F1 Score: 0.13008885850991111\n",
      "Precision: 0.12054421768707484\n",
      "Recall: 0.14285714285714285\n",
      "----------------------------------------\n",
      "Model: Random Forest\n",
      "Accuracy: 0.2857142857142857\n",
      "F1 Score: 0.2802801120448179\n",
      "Precision: 0.27976190476190477\n",
      "Recall: 0.2857142857142857\n",
      "----------------------------------------\n"
     ]
    },
    {
     "ename": "ValueError",
     "evalue": "Invalid classes inferred from unique values of `y`.  Expected: [  0   1   2   3   4   5   6   7   8   9  10  11  12  13  14  15  16  17\n  18  19  20  21  22  23  24  25  26  27  28  29  30  31  32  33  34  35\n  36  37  38  39  40  41  42  43  44  45  46  47  48  49  50  51  52  53\n  54  55  56  57  58  59  60  61  62  63  64  65  66  67  68  69  70  71\n  72  73  74  75  76  77  78  79  80  81  82  83  84  85  86  87  88  89\n  90  91  92  93  94  95  96  97  98  99 100 101], got [  0   1   2   3   4   5   6   7   8   9  13  14  15  16  17  18  19  20\n  21  24  25  26  27  28  29  30  31  32  33  34  35  36  37  38  39  40\n  41  42  43  44  45  46  47  48  49  50  51  52  53  54  55  56  57  58\n  59  60  61  62  64  65  66  67  69  70  71  73  74  75  76  77  78  79\n  80  81  82  83  84  85  87  88  89  90  91  92  94  95  96  98  99 101\n 102 103 104 105 108 109 110 111 112 113 114 115]",
     "output_type": "error",
     "traceback": [
      "\u001b[1;31m---------------------------------------------------------------------------\u001b[0m",
      "\u001b[1;31mValueError\u001b[0m                                Traceback (most recent call last)",
      "Cell \u001b[1;32mIn[36], line 3\u001b[0m\n\u001b[0;32m      1\u001b[0m \u001b[38;5;28;01mfor\u001b[39;00m m, model \u001b[38;5;129;01min\u001b[39;00m models\u001b[38;5;241m.\u001b[39mitems():\n\u001b[1;32m----> 3\u001b[0m     \u001b[43mmodel\u001b[49m\u001b[38;5;241;43m.\u001b[39;49m\u001b[43mfit\u001b[49m\u001b[43m(\u001b[49m\u001b[43mX_train\u001b[49m\u001b[43m,\u001b[49m\u001b[43m \u001b[49m\u001b[43my_train\u001b[49m\u001b[43m)\u001b[49m\n\u001b[0;32m      6\u001b[0m     y_pred \u001b[38;5;241m=\u001b[39m model\u001b[38;5;241m.\u001b[39mpredict(X_test)\n\u001b[0;32m      9\u001b[0m     accuracy, f1, precision, recall \u001b[38;5;241m=\u001b[39m evaluate_model(y_test, y_pred)\n",
      "File \u001b[1;32mc:\\Users\\rutto\\OneDrive\\Desktop\\medi-hack\\myenv\\Lib\\site-packages\\xgboost\\core.py:726\u001b[0m, in \u001b[0;36mrequire_keyword_args.<locals>.throw_if.<locals>.inner_f\u001b[1;34m(*args, **kwargs)\u001b[0m\n\u001b[0;32m    724\u001b[0m \u001b[38;5;28;01mfor\u001b[39;00m k, arg \u001b[38;5;129;01min\u001b[39;00m \u001b[38;5;28mzip\u001b[39m(sig\u001b[38;5;241m.\u001b[39mparameters, args):\n\u001b[0;32m    725\u001b[0m     kwargs[k] \u001b[38;5;241m=\u001b[39m arg\n\u001b[1;32m--> 726\u001b[0m \u001b[38;5;28;01mreturn\u001b[39;00m \u001b[43mfunc\u001b[49m\u001b[43m(\u001b[49m\u001b[38;5;241;43m*\u001b[39;49m\u001b[38;5;241;43m*\u001b[39;49m\u001b[43mkwargs\u001b[49m\u001b[43m)\u001b[49m\n",
      "File \u001b[1;32mc:\\Users\\rutto\\OneDrive\\Desktop\\medi-hack\\myenv\\Lib\\site-packages\\xgboost\\sklearn.py:1559\u001b[0m, in \u001b[0;36mXGBClassifier.fit\u001b[1;34m(self, X, y, sample_weight, base_margin, eval_set, verbose, xgb_model, sample_weight_eval_set, base_margin_eval_set, feature_weights)\u001b[0m\n\u001b[0;32m   1554\u001b[0m     expected_classes \u001b[38;5;241m=\u001b[39m \u001b[38;5;28mself\u001b[39m\u001b[38;5;241m.\u001b[39mclasses_\n\u001b[0;32m   1555\u001b[0m \u001b[38;5;28;01mif\u001b[39;00m (\n\u001b[0;32m   1556\u001b[0m     classes\u001b[38;5;241m.\u001b[39mshape \u001b[38;5;241m!=\u001b[39m expected_classes\u001b[38;5;241m.\u001b[39mshape\n\u001b[0;32m   1557\u001b[0m     \u001b[38;5;129;01mor\u001b[39;00m \u001b[38;5;129;01mnot\u001b[39;00m (classes \u001b[38;5;241m==\u001b[39m expected_classes)\u001b[38;5;241m.\u001b[39mall()\n\u001b[0;32m   1558\u001b[0m ):\n\u001b[1;32m-> 1559\u001b[0m     \u001b[38;5;28;01mraise\u001b[39;00m \u001b[38;5;167;01mValueError\u001b[39;00m(\n\u001b[0;32m   1560\u001b[0m         \u001b[38;5;124mf\u001b[39m\u001b[38;5;124m\"\u001b[39m\u001b[38;5;124mInvalid classes inferred from unique values of `y`.  \u001b[39m\u001b[38;5;124m\"\u001b[39m\n\u001b[0;32m   1561\u001b[0m         \u001b[38;5;124mf\u001b[39m\u001b[38;5;124m\"\u001b[39m\u001b[38;5;124mExpected: \u001b[39m\u001b[38;5;132;01m{\u001b[39;00mexpected_classes\u001b[38;5;132;01m}\u001b[39;00m\u001b[38;5;124m, got \u001b[39m\u001b[38;5;132;01m{\u001b[39;00mclasses\u001b[38;5;132;01m}\u001b[39;00m\u001b[38;5;124m\"\u001b[39m\n\u001b[0;32m   1562\u001b[0m     )\n\u001b[0;32m   1564\u001b[0m params \u001b[38;5;241m=\u001b[39m \u001b[38;5;28mself\u001b[39m\u001b[38;5;241m.\u001b[39mget_xgb_params()\n\u001b[0;32m   1566\u001b[0m \u001b[38;5;28;01mif\u001b[39;00m \u001b[38;5;28mcallable\u001b[39m(\u001b[38;5;28mself\u001b[39m\u001b[38;5;241m.\u001b[39mobjective):\n",
      "\u001b[1;31mValueError\u001b[0m: Invalid classes inferred from unique values of `y`.  Expected: [  0   1   2   3   4   5   6   7   8   9  10  11  12  13  14  15  16  17\n  18  19  20  21  22  23  24  25  26  27  28  29  30  31  32  33  34  35\n  36  37  38  39  40  41  42  43  44  45  46  47  48  49  50  51  52  53\n  54  55  56  57  58  59  60  61  62  63  64  65  66  67  68  69  70  71\n  72  73  74  75  76  77  78  79  80  81  82  83  84  85  86  87  88  89\n  90  91  92  93  94  95  96  97  98  99 100 101], got [  0   1   2   3   4   5   6   7   8   9  13  14  15  16  17  18  19  20\n  21  24  25  26  27  28  29  30  31  32  33  34  35  36  37  38  39  40\n  41  42  43  44  45  46  47  48  49  50  51  52  53  54  55  56  57  58\n  59  60  61  62  64  65  66  67  69  70  71  73  74  75  76  77  78  79\n  80  81  82  83  84  85  87  88  89  90  91  92  94  95  96  98  99 101\n 102 103 104 105 108 109 110 111 112 113 114 115]"
     ]
    }
   ],
   "source": [
    "for m, model in models.items():\n",
    "   \n",
    "    model.fit(X_train, y_train)\n",
    "\n",
    "   \n",
    "    y_pred = model.predict(X_test)\n",
    "\n",
    "   \n",
    "    accuracy, f1, precision, recall = evaluate_model(y_test, y_pred)\n",
    "\n",
    "  \n",
    "    print(f'Model: {m}')\n",
    "    print(f'Accuracy: {accuracy}')\n",
    "    print(f'F1 Score: {f1}')\n",
    "    print(f'Precision: {precision}')\n",
    "    print(f'Recall: {recall}')\n",
    "    print('----------------------------------------')"
   ]
  },
  {
   "cell_type": "code",
   "execution_count": null,
   "metadata": {},
   "outputs": [
    {
     "data": {
      "image/png": "[encoded data removed]",
      "text/plain": [
       "<Figure size 640x480 with 2 Axes>"
      ]
     },
     "metadata": {},
     "output_type": "display_data"
    }
   ],
   "source": [
    "# ploting out the predictions \n",
    "\n",
    "from sklearn.metrics import confusion_matrix\n",
    "import seaborn as sns\n",
    "\n",
    "def plot_confusion_matrix(true, pred):\n",
    "    cm = confusion_matrix(true, pred)\n",
    "    sns.heatmap(cm, annot=True)\n",
    "    plt.xlabel('Predicted')\n",
    "    plt.ylabel('True')\n",
    "    plt.show()\n",
    "\n",
    "plot_confusion_matrix(y_test, y_pred)\n"
   ]
  },
  {
   "cell_type": "code",
   "execution_count": null,
   "metadata": {},
   "outputs": [
    {
     "name": "stdout",
     "output_type": "stream",
     "text": [
      "Disease Encoding: {'Acne': np.int64(0), 'Allergic Rhinitis': np.int64(1), \"Alzheimer's Disease\": np.int64(2), 'Anemia': np.int64(3), 'Anxiety Disorders': np.int64(4), 'Appendicitis': np.int64(5), 'Asthma': np.int64(6), 'Atherosclerosis': np.int64(7), 'Autism Spectrum Disorder (ASD)': np.int64(8), 'Bipolar Disorder': np.int64(9), 'Bladder Cancer': np.int64(10), 'Brain Tumor': np.int64(11), 'Breast Cancer': np.int64(12), 'Bronchitis': np.int64(13), 'Cataracts': np.int64(14), 'Cerebral Palsy': np.int64(15), 'Chickenpox': np.int64(16), 'Cholecystitis': np.int64(17), 'Cholera': np.int64(18), 'Chronic Kidney Disease': np.int64(19), 'Chronic Obstructive Pulmonary Disease (COPD)': np.int64(20), 'Chronic Obstructive Pulmonary...': np.int64(21), 'Cirrhosis': np.int64(22), 'Colorectal Cancer': np.int64(23), 'Common Cold': np.int64(24), 'Conjunctivitis (Pink Eye)': np.int64(25), 'Coronary Artery Disease': np.int64(26), \"Crohn's Disease\": np.int64(27), 'Cystic Fibrosis': np.int64(28), 'Dementia': np.int64(29), 'Dengue Fever': np.int64(30), 'Depression': np.int64(31), 'Diabetes': np.int64(32), 'Diverticulitis': np.int64(33), 'Down Syndrome': np.int64(34), 'Eating Disorders (Anorexia,...': np.int64(35), 'Ebola Virus': np.int64(36), 'Eczema': np.int64(37), 'Endometriosis': np.int64(38), 'Epilepsy': np.int64(39), 'Esophageal Cancer': np.int64(40), 'Fibromyalgia': np.int64(41), 'Gastroenteritis': np.int64(42), 'Glaucoma': np.int64(43), 'Gout': np.int64(44), 'HIV/AIDS': np.int64(45), 'Hemophilia': np.int64(46), 'Hemorrhoids': np.int64(47), 'Hepatitis': np.int64(48), 'Hepatitis B': np.int64(49), 'Hyperglycemia': np.int64(50), 'Hypertension': np.int64(51), 'Hypertensive Heart Disease': np.int64(52), 'Hyperthyroidism': np.int64(53), 'Hypoglycemia': np.int64(54), 'Hypothyroidism': np.int64(55), 'Influenza': np.int64(56), 'Kidney Cancer': np.int64(57), 'Kidney Disease': np.int64(58), 'Klinefelter Syndrome': np.int64(59), 'Liver Cancer': np.int64(60), 'Liver Disease': np.int64(61), 'Lung Cancer': np.int64(62), 'Lyme Disease': np.int64(63), 'Lymphoma': np.int64(64), 'Malaria': np.int64(65), 'Marfan Syndrome': np.int64(66), 'Measles': np.int64(67), 'Melanoma': np.int64(68), 'Migraine': np.int64(69), 'Multiple Sclerosis': np.int64(70), 'Mumps': np.int64(71), 'Muscular Dystrophy': np.int64(72), 'Myocardial Infarction (Heart...': np.int64(73), 'Obsessive-Compulsive Disorde...': np.int64(74), 'Osteoarthritis': np.int64(75), 'Osteomyelitis': np.int64(76), 'Osteoporosis': np.int64(77), 'Otitis Media (Ear Infection)': np.int64(78), 'Ovarian Cancer': np.int64(79), 'Pancreatic Cancer': np.int64(80), 'Pancreatitis': np.int64(81), \"Parkinson's Disease\": np.int64(82), 'Pneumocystis Pneumonia (PCP)': np.int64(83), 'Pneumonia': np.int64(84), 'Pneumothorax': np.int64(85), 'Polio': np.int64(86), 'Polycystic Ovary Syndrome (PCOS)': np.int64(87), 'Prader-Willi Syndrome': np.int64(88), 'Prostate Cancer': np.int64(89), 'Psoriasis': np.int64(90), 'Rabies': np.int64(91), 'Rheumatoid Arthritis': np.int64(92), 'Rubella': np.int64(93), 'Schizophrenia': np.int64(94), 'Scoliosis': np.int64(95), 'Sepsis': np.int64(96), 'Sickle Cell Anemia': np.int64(97), 'Sinusitis': np.int64(98), 'Sleep Apnea': np.int64(99), 'Spina Bifida': np.int64(100), 'Stroke': np.int64(101), 'Systemic Lupus Erythematosus...': np.int64(102), 'Testicular Cancer': np.int64(103), 'Tetanus': np.int64(104), 'Thyroid Cancer': np.int64(105), 'Tonsillitis': np.int64(106), 'Tourette Syndrome': np.int64(107), 'Tuberculosis': np.int64(108), 'Turner Syndrome': np.int64(109), 'Typhoid Fever': np.int64(110), 'Ulcerative Colitis': np.int64(111), 'Urinary Tract Infection': np.int64(112), 'Urinary Tract Infection (UTI)': np.int64(113), 'Williams Syndrome': np.int64(114), 'Zika Virus': np.int64(115)}\n"
     ]
    }
   ],
   "source": [
    "# # Encoding Disease\n",
    "# from sklearn.preprocessing import LabelEncoder\n",
    "# le_disease = LabelEncoder()\n",
    "# data['Disease'] = le_disease.fit_transform(data['Disease'])\n",
    "\n",
    "# # print the encoded labels\n",
    "# print(\"Disease Encoding:\", dict(zip(le_disease.classes_, le_disease.transform(le_disease.classes_))))\n"
   ]
  },
  {
   "cell_type": "code",
   "execution_count": 18,
   "metadata": {},
   "outputs": [],
   "source": [
    "\n",
    "bp_mapping = {'Low': 0, 'Normal': 1, 'High': 2}\n",
    "cholesterol_mapping = {'Low': 0, 'Normal': 1, 'High': 2}\n",
    "\n",
    "# ordinal encoding to the 'Blood Pressure' and 'Cholesterol Level' columns\n",
    "data['Blood Pressure'] = data['Blood Pressure'].map(bp_mapping)\n",
    "data['Cholesterol Level'] = data['Cholesterol Level'].map(cholesterol_mapping)\n"
   ]
  },
  {
   "cell_type": "code",
   "execution_count": 19,
   "metadata": {},
   "outputs": [],
   "source": [
    "data['Gender'] = data['Gender'].map({'Male': 0, 'Female': 1})"
   ]
  },
  {
   "cell_type": "code",
   "execution_count": 21,
   "metadata": {},
   "outputs": [],
   "source": [
    "\n",
    "binary_mapping = {'No': 0, 'Yes': 1}\n",
    "\n",
    "binary_columns = ['Fever', 'Cough', 'Fatigue', 'Difficulty Breathing']\n",
    "\n",
    "\n",
    "for col in binary_columns:\n",
    "    data[col] = data[col].map(binary_mapping)\n"
   ]
  },
  {
   "cell_type": "code",
   "execution_count": 22,
   "metadata": {},
   "outputs": [
    {
     "name": "stdout",
     "output_type": "stream",
     "text": [
      "<class 'pandas.core.frame.DataFrame'>\n",
      "RangeIndex: 349 entries, 0 to 348\n",
      "Data columns (total 9 columns):\n",
      " #   Column                Non-Null Count  Dtype  \n",
      "---  ------                --------------  -----  \n",
      " 0   Disease               349 non-null    int64  \n",
      " 1   Fever                 0 non-null      float64\n",
      " 2   Cough                 0 non-null      float64\n",
      " 3   Fatigue               0 non-null      float64\n",
      " 4   Difficulty Breathing  0 non-null      float64\n",
      " 5   Age                   349 non-null    int64  \n",
      " 6   Gender                349 non-null    int64  \n",
      " 7   Blood Pressure        349 non-null    int64  \n",
      " 8   Cholesterol Level     349 non-null    int64  \n",
      "dtypes: float64(4), int64(5)\n",
      "memory usage: 24.7 KB\n"
     ]
    }
   ],
   "source": [
    "data.info()"
   ]
  },
  {
   "cell_type": "code",
   "execution_count": 23,
   "metadata": {},
   "outputs": [
    {
     "name": "stdout",
     "output_type": "stream",
     "text": [
      "     Fever  Cough  Fatigue  Difficulty Breathing  Age  Gender  Blood Pressure  \\\n",
      "0      NaN    NaN      NaN                   NaN   19       1               0   \n",
      "1      NaN    NaN      NaN                   NaN   25       1               1   \n",
      "2      NaN    NaN      NaN                   NaN   25       1               1   \n",
      "3      NaN    NaN      NaN                   NaN   25       0               1   \n",
      "4      NaN    NaN      NaN                   NaN   25       0               1   \n",
      "..     ...    ...      ...                   ...  ...     ...             ...   \n",
      "344    NaN    NaN      NaN                   NaN   80       1               2   \n",
      "345    NaN    NaN      NaN                   NaN   85       0               2   \n",
      "346    NaN    NaN      NaN                   NaN   85       0               2   \n",
      "347    NaN    NaN      NaN                   NaN   90       1               2   \n",
      "348    NaN    NaN      NaN                   NaN   90       1               2   \n",
      "\n",
      "     Cholesterol Level  \n",
      "0                    1  \n",
      "1                    1  \n",
      "2                    1  \n",
      "3                    1  \n",
      "4                    1  \n",
      "..                 ...  \n",
      "344                  2  \n",
      "345                  2  \n",
      "346                  2  \n",
      "347                  2  \n",
      "348                  2  \n",
      "\n",
      "[349 rows x 8 columns]\n",
      "0       56\n",
      "1       24\n",
      "2       37\n",
      "3        6\n",
      "4        6\n",
      "      ... \n",
      "344    101\n",
      "345    101\n",
      "346    101\n",
      "347    101\n",
      "348    101\n",
      "Name: Disease, Length: 349, dtype: int64\n"
     ]
    }
   ],
   "source": [
    "X = data.drop('Disease', axis=1)\n",
    "y = data['Disease']\n",
    "print(X)\n",
    "print(y)\n",
    "\n",
    "\n",
    "\n",
    "\n"
   ]
  },
  {
   "cell_type": "code",
   "execution_count": 46,
   "metadata": {},
   "outputs": [
    {
     "ename": "ValueError",
     "evalue": "Invalid classes inferred from unique values of `y`.  Expected: [  0   1   2   3   4   5   6   7   8   9  10  11  12  13  14  15  16  17\n  18  19  20  21  22  23  24  25  26  27  28  29  30  31  32  33  34  35\n  36  37  38  39  40  41  42  43  44  45  46  47  48  49  50  51  52  53\n  54  55  56  57  58  59  60  61  62  63  64  65  66  67  68  69  70  71\n  72  73  74  75  76  77  78  79  80  81  82  83  84  85  86  87  88  89\n  90  91  92  93  94  95  96  97  98  99 100 101], got [  0   1   2   3   4   5   6   7   8   9  13  14  15  16  17  18  19  20\n  21  24  25  26  27  28  29  30  31  32  33  34  35  36  37  38  39  40\n  41  42  43  44  45  46  47  48  49  50  51  52  53  54  55  56  57  58\n  59  60  61  62  64  65  66  67  69  70  71  73  74  75  76  77  78  79\n  80  81  82  83  84  85  87  88  89  90  91  92  94  95  96  98  99 101\n 102 103 104 105 108 109 110 111 112 113 114 115]",
     "output_type": "error",
     "traceback": [
      "\u001b[1;31m---------------------------------------------------------------------------\u001b[0m",
      "\u001b[1;31mValueError\u001b[0m                                Traceback (most recent call last)",
      "Cell \u001b[1;32mIn[46], line 3\u001b[0m\n\u001b[0;32m      1\u001b[0m \u001b[38;5;66;03m# Initialize \u001b[39;00m\n\u001b[0;32m      2\u001b[0m model \u001b[38;5;241m=\u001b[39m xgb\u001b[38;5;241m.\u001b[39mXGBClassifier(random_state\u001b[38;5;241m=\u001b[39m\u001b[38;5;241m42\u001b[39m)\n\u001b[1;32m----> 3\u001b[0m \u001b[43mmodel\u001b[49m\u001b[38;5;241;43m.\u001b[39;49m\u001b[43mfit\u001b[49m\u001b[43m(\u001b[49m\u001b[43mX_train\u001b[49m\u001b[43m,\u001b[49m\u001b[43m \u001b[49m\u001b[43my_train\u001b[49m\u001b[43m)\u001b[49m\n\u001b[0;32m      6\u001b[0m y_pred \u001b[38;5;241m=\u001b[39m model\u001b[38;5;241m.\u001b[39mpredict(X_test)\n",
      "File \u001b[1;32mc:\\Users\\rutto\\OneDrive\\Desktop\\medi-hack\\myenv\\Lib\\site-packages\\xgboost\\core.py:726\u001b[0m, in \u001b[0;36mrequire_keyword_args.<locals>.throw_if.<locals>.inner_f\u001b[1;34m(*args, **kwargs)\u001b[0m\n\u001b[0;32m    724\u001b[0m \u001b[38;5;28;01mfor\u001b[39;00m k, arg \u001b[38;5;129;01min\u001b[39;00m \u001b[38;5;28mzip\u001b[39m(sig\u001b[38;5;241m.\u001b[39mparameters, args):\n\u001b[0;32m    725\u001b[0m     kwargs[k] \u001b[38;5;241m=\u001b[39m arg\n\u001b[1;32m--> 726\u001b[0m \u001b[38;5;28;01mreturn\u001b[39;00m \u001b[43mfunc\u001b[49m\u001b[43m(\u001b[49m\u001b[38;5;241;43m*\u001b[39;49m\u001b[38;5;241;43m*\u001b[39;49m\u001b[43mkwargs\u001b[49m\u001b[43m)\u001b[49m\n",
      "File \u001b[1;32mc:\\Users\\rutto\\OneDrive\\Desktop\\medi-hack\\myenv\\Lib\\site-packages\\xgboost\\sklearn.py:1559\u001b[0m, in \u001b[0;36mXGBClassifier.fit\u001b[1;34m(self, X, y, sample_weight, base_margin, eval_set, verbose, xgb_model, sample_weight_eval_set, base_margin_eval_set, feature_weights)\u001b[0m\n\u001b[0;32m   1554\u001b[0m     expected_classes \u001b[38;5;241m=\u001b[39m \u001b[38;5;28mself\u001b[39m\u001b[38;5;241m.\u001b[39mclasses_\n\u001b[0;32m   1555\u001b[0m \u001b[38;5;28;01mif\u001b[39;00m (\n\u001b[0;32m   1556\u001b[0m     classes\u001b[38;5;241m.\u001b[39mshape \u001b[38;5;241m!=\u001b[39m expected_classes\u001b[38;5;241m.\u001b[39mshape\n\u001b[0;32m   1557\u001b[0m     \u001b[38;5;129;01mor\u001b[39;00m \u001b[38;5;129;01mnot\u001b[39;00m (classes \u001b[38;5;241m==\u001b[39m expected_classes)\u001b[38;5;241m.\u001b[39mall()\n\u001b[0;32m   1558\u001b[0m ):\n\u001b[1;32m-> 1559\u001b[0m     \u001b[38;5;28;01mraise\u001b[39;00m \u001b[38;5;167;01mValueError\u001b[39;00m(\n\u001b[0;32m   1560\u001b[0m         \u001b[38;5;124mf\u001b[39m\u001b[38;5;124m\"\u001b[39m\u001b[38;5;124mInvalid classes inferred from unique values of `y`.  \u001b[39m\u001b[38;5;124m\"\u001b[39m\n\u001b[0;32m   1561\u001b[0m         \u001b[38;5;124mf\u001b[39m\u001b[38;5;124m\"\u001b[39m\u001b[38;5;124mExpected: \u001b[39m\u001b[38;5;132;01m{\u001b[39;00mexpected_classes\u001b[38;5;132;01m}\u001b[39;00m\u001b[38;5;124m, got \u001b[39m\u001b[38;5;132;01m{\u001b[39;00mclasses\u001b[38;5;132;01m}\u001b[39;00m\u001b[38;5;124m\"\u001b[39m\n\u001b[0;32m   1562\u001b[0m     )\n\u001b[0;32m   1564\u001b[0m params \u001b[38;5;241m=\u001b[39m \u001b[38;5;28mself\u001b[39m\u001b[38;5;241m.\u001b[39mget_xgb_params()\n\u001b[0;32m   1566\u001b[0m \u001b[38;5;28;01mif\u001b[39;00m \u001b[38;5;28mcallable\u001b[39m(\u001b[38;5;28mself\u001b[39m\u001b[38;5;241m.\u001b[39mobjective):\n",
      "\u001b[1;31mValueError\u001b[0m: Invalid classes inferred from unique values of `y`.  Expected: [  0   1   2   3   4   5   6   7   8   9  10  11  12  13  14  15  16  17\n  18  19  20  21  22  23  24  25  26  27  28  29  30  31  32  33  34  35\n  36  37  38  39  40  41  42  43  44  45  46  47  48  49  50  51  52  53\n  54  55  56  57  58  59  60  61  62  63  64  65  66  67  68  69  70  71\n  72  73  74  75  76  77  78  79  80  81  82  83  84  85  86  87  88  89\n  90  91  92  93  94  95  96  97  98  99 100 101], got [  0   1   2   3   4   5   6   7   8   9  13  14  15  16  17  18  19  20\n  21  24  25  26  27  28  29  30  31  32  33  34  35  36  37  38  39  40\n  41  42  43  44  45  46  47  48  49  50  51  52  53  54  55  56  57  58\n  59  60  61  62  64  65  66  67  69  70  71  73  74  75  76  77  78  79\n  80  81  82  83  84  85  87  88  89  90  91  92  94  95  96  98  99 101\n 102 103 104 105 108 109 110 111 112 113 114 115]"
     ]
    }
   ],
   "source": [
    "\n",
    "\n",
    "# Initialize \n",
    "model = xgb.XGBClassifier(random_state=42)\n",
    "model.fit(X_train, y_train)\n",
    "\n",
    "\n",
    "y_pred = model.predict(X_test)\n"
   ]
  },
  {
   "cell_type": "code",
   "execution_count": null,
   "metadata": {},
   "outputs": [],
   "source": [
    "from sklearn.metrics import accuracy_score, classification_report, confusion_matrix\n",
    "\n",
    "y_pred = model.predict(X_test)\n",
    "print(f\"Accuracy: {accuracy_score(y_test, y_pred) * 100:.2f}%\")\n",
    "print(\"\\nConfusion Matrix:\")\n",
    "print(confusion_matrix(y_test, y_pred))\n",
    "print(\"\\nClassification Report:\")\n",
    "print(classification_report(y_test, y_pred))\n"
   ]
  },
  {
   "cell_type": "code",
   "execution_count": null,
   "metadata": {},
   "outputs": [],
   "source": [
    "# # data segragation into numerical and categorical \n",
    "\n",
    "# cat_columns = data.columns[data.dtypes =='object']\n",
    "# cat_columns"
   ]
  },
  {
   "cell_type": "code",
   "execution_count": null,
   "metadata": {},
   "outputs": [],
   "source": [
    "# # model selection\n",
    "# model = RandomForestClassifier()\n",
    "# model.fit(X_train, y_train)\n",
    "# y_pred = model.predict(X_test)\n",
    "# print(\"Accuracy:\", accuracy_score(y_test, y_pred))\n",
    "# print(\"Precision:\", precision_score(y_test, y_pred, average='weighted'))\n",
    "# print(\"Recall:\", recall_score(y_test, y_pred, average='weighted'))\n",
    "# print(\"F1 Score:\", f1_score(y_test, y_pred, average='weighted'))\n",
    "# print(\"Confusion Matrix:\\n\", confusion_matrix(y_test, y_pred))\n",
    "# print(\"Classification Report:\\n\", classification_report(y_test, y_pred))"
   ]
  },
  {
   "cell_type": "code",
   "execution_count": null,
   "metadata": {},
   "outputs": [],
   "source": [
    "# num_columns = data.columns[data.dtypes!='object']\n",
    "# num_columns\n"
   ]
  },
  {
   "cell_type": "code",
   "execution_count": null,
   "metadata": {},
   "outputs": [],
   "source": [
    "# data[num_columns]"
   ]
  }
 ],
 "metadata": {
  "kernelspec": {
   "display_name": "myenv",
   "language": "python",
   "name": "python3"
  },
  "language_info": {
   "codemirror_mode": {
    "name": "ipython",
    "version": 3
   },
   "file_extension": ".py",
   "mimetype": "text/x-python",
   "name": "python",
   "nbconvert_exporter": "python",
   "pygments_lexer": "ipython3",
   "version": "3.12.6"
  }
 },
 "nbformat": 4,
 "nbformat_minor": 2
}
